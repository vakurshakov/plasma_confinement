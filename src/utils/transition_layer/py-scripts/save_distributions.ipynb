{
 "cells": [
  {
   "cell_type": "code",
   "execution_count": null,
   "metadata": {},
   "outputs": [],
   "source": [
    "import struct\n",
    "import numpy as np\n",
    "import matplotlib.pyplot as plt\n",
    "\n",
    "from scipy.interpolate import interp1d\n",
    "\n",
    "from integrate_Jyg import *\n",
    "from integrate_xg import *"
   ]
  },
  {
   "cell_type": "code",
   "execution_count": null,
   "metadata": {},
   "outputs": [],
   "source": [
    "# we'll choose the reference density n0 = 1.0 and e = 1.0\n",
    "\n",
    "dx = 0.05     # , c/w_pe - Grid spacing\n",
    "mi_me = 16.0  # , me - Mass of ions\n",
    "Ti = 10.0     # , KeV - ions temperature\n",
    "v_th = sqrt(Ti / mi_me / 511.0)  # , make sure to divide by mec^2 = 511.0 KeV\n",
    "\n",
    "postfix = f'{dx}dx_{mi_me}mi_me_{Ti}Ti'\n",
    "\n",
    "\n",
    "raw_xg = load('integral_of_xg.npy', allow_pickle=True)\n",
    "raw_ng = load('value_of_ng.npy', allow_pickle=True)\n",
    "\n",
    "# x values were normalized to rho_i = c/w_pi\n",
    "#\n",
    "# normalized to e * n0 * v_th, v_th = sqrt(Ti / mi)\n",
    "# TODO: find the place for sqrt(2) multiplier\n",
    "_Jy = interp1d(raw_xg[1] * sqrt(mi_me),\n",
    "  Jy_value(raw_xg[0]) * v_th / sqrt(2))\n",
    "\n",
    "# normalized to Bv = sqrt(4 * pi * n0 * mi * v_th^2)\n",
    "# TODO: find the place for sqrt(2) multiplier\n",
    "_Bz = interp1d(raw_xg[1][1:] * sqrt(mi_me),\n",
    "  Bz_value(raw_xg[0][1:]) * sqrt(4 * pi * mi_me * v_th * v_th) / sqrt(2),\n",
    "  bounds_error=False, fill_value=(0,1))\n",
    "\n",
    "# normalized to n0 = 1\n",
    "_ng = interp1d(raw_ng[0], raw_ng[1])\n",
    "_n  = interp1d(raw_xg[1] * sqrt(mi_me), _ng(raw_xg[0]))\n",
    "\n",
    "# g is normalized to v_th\n",
    "_Gx = interp1d(raw_xg[1] * sqrt(mi_me), raw_xg[0] * v_th)\n",
    "\n",
    "\n",
    "xmax = 10 * sqrt(mi_me)\n",
    "x_range = np.arange(0, xmax + dx, dx)\n",
    "\n",
    "Jy = {x: float(_Jy(x)) for x in x_range}\n",
    "Bz = {x: float(_Bz(x)) for x in x_range}\n",
    "n  = {x: float(_n(x))  for x in x_range}\n",
    "Gx = {x: float(_Gx(x)) for x in x_range}\n",
    "\n",
    "# Saving interpolated functions into numpy binaries\n",
    "np.save(f'../Jy_{postfix}.npy', Jy)\n",
    "np.save(f'../Bz_{postfix}.npy', Bz)\n",
    "np.save(f'../n_{postfix}.npy',  n)\n",
    "np.save(f'../Gx_{postfix}.npy', Gx)\n",
    "\n",
    "# Writing table functions to the binary file\n",
    "parameters = [0, xmax, dx]\n",
    "\n",
    "for table, name in zip([Jy, Bz, n, Gx], ['Jy', 'Bz', 'n', 'Gx']):\n",
    "  with open(f'../{name}_{postfix}.bin', 'wb') as file:\n",
    "    plain_dict = []\n",
    "    for x, v in table.items():\n",
    "      plain_dict.append(x)\n",
    "      plain_dict.append(v)\n",
    "    \n",
    "    result = parameters + plain_dict\n",
    "    file.write(struct.pack('d' * len(result), *result))\n"
   ]
  },
  {
   "cell_type": "code",
   "execution_count": null,
   "metadata": {},
   "outputs": [],
   "source": [
    "fig = plt.figure(figsize=(12,10))\n",
    "\n",
    "plt.rc('axes', labelsize=14)    # fontsize of the x and y labels\n",
    "plt.rc('xtick', labelsize=12)   # fontsize of the tick labels\n",
    "plt.rc('ytick', labelsize=12)   # fontsize of the tick labels\n",
    "plt.rc('legend', fontsize=12)   # legend fontsize\n",
    "\n",
    "Bz = load(f'../Bz_{postfix}.npy', allow_pickle=True).item()\n",
    "plt.plot(np.array(list(Bz.keys())) / sqrt(mi_me), np.array(list(Bz.values())) / sqrt(4 * pi * mi_me * v_th * v_th), label='$B_z\\,(x)\\,/\\,B_v$')\n",
    "# plt.fill_between(np.array(list(Bz.keys())) / sqrt(mi_me), 0, np.array(list(Bz.values())) / sqrt(4 * pi * mi_me * v_th * v_th), alpha = 0.4)\n",
    "\n",
    "Jy = load(f'../Jy_{postfix}.npy', allow_pickle=True).item()\n",
    "plt.plot(np.array(list(Jy.keys())) / sqrt(mi_me), -np.array(list(Jy.values())) / v_th, label='$- J_y\\,(x)\\,/\\,e n_0 v_{th}$')\n",
    "# plt.fill_between(np.array(list(Jy.keys())) / sqrt(mi_me), 0, -np.array(list(Jy.values())) / v_th, alpha = 0.4)\n",
    "\n",
    "n = load(f'../n_{postfix}.npy', allow_pickle=True).item()\n",
    "plt.plot(np.array(list(n.keys())) / sqrt(mi_me), n.values(), label='$n\\,(x)\\,/\\,n_0$')\n",
    "# plt.fill_between(np.array(list(n.keys())) / sqrt(mi_me), 0, np.array(list(n.values())), alpha = 0.4)\n",
    "\n",
    "plt.xlabel('$\\\\tilde{x}, c\\,/\\,\\\\omega_{pi}$')\n",
    "plt.xlim((0, 10))\n",
    "plt.grid()\n",
    "\n",
    "plt.legend()"
   ]
  }
 ],
 "metadata": {
  "kernelspec": {
   "display_name": "Python 3",
   "language": "python",
   "name": "python3"
  },
  "language_info": {
   "codemirror_mode": {
    "name": "ipython",
    "version": 3
   },
   "file_extension": ".py",
   "mimetype": "text/x-python",
   "name": "python",
   "nbconvert_exporter": "python",
   "pygments_lexer": "ipython3",
   "version": "3.10.8 (main, Nov  1 2022, 14:18:21) [GCC 12.2.0]"
  },
  "orig_nbformat": 4,
  "vscode": {
   "interpreter": {
    "hash": "e7370f93d1d0cde622a1f8e1c04877d8463912d04d973331ad4851f04de6915a"
   }
  }
 },
 "nbformat": 4,
 "nbformat_minor": 2
}
