{
 "cells": [
  {
   "cell_type": "markdown",
   "metadata": {},
   "source": [
    "What I want to analyze here?\n",
    "1. Visual profile of each timestep\n",
    "2. Function-duration distribution"
   ]
  },
  {
   "cell_type": "code",
   "execution_count": null,
   "metadata": {},
   "outputs": [],
   "source": [
    "# To read and parse outputted .json file\n",
    "import json\n",
    "\n",
    "# Main data frame\n",
    "import pandas as pd\n",
    "\n",
    "# Draw interactive graphs with plotly\n",
    "import plotly.express as px\n",
    "from plotly.offline import init_notebook_mode\n",
    "\n",
    "# To use create directory and store progress\n",
    "import os\n",
    "from datetime import datetime, date\n",
    "\n",
    "init_notebook_mode(connected=True)"
   ]
  },
  {
   "cell_type": "code",
   "execution_count": null,
   "metadata": {},
   "outputs": [],
   "source": [
    "filename = '../fAOS_simulation_time_profile'\n",
    "\n",
    "data = []\n",
    "\n",
    "step_count = 0\n",
    "max_load_step = 10\n",
    "\n",
    "with open(filename + '.json') as file:\n",
    "  for r in json.load(file)['record']:\n",
    "    data.append({\n",
    "      'name': r['name'],\n",
    "      'start': datetime.fromtimestamp(r['start']),\n",
    "      'end': datetime.fromtimestamp(r['start'] + r['dur'] / 1e6), # datetime.fromtimestamp(r['end']),\n",
    "      'dur, μs': r['dur'],\n",
    "      'tid': r['tid']\n",
    "    })\n",
    "\n",
    "    if r['name'] == 'one timestep':\n",
    "      step_count += 1\n",
    "      if not step_count < max_load_step: break"
   ]
  },
  {
   "cell_type": "code",
   "execution_count": null,
   "metadata": {},
   "outputs": [],
   "source": [
    "def customize_figure(fig):\n",
    "  for i, d in enumerate(fig['data']):\n",
    "    if d['name'] in ['void Manager::initializes()', 'one timestep']:\n",
    "      d.width = 0.1\n",
    "      d['y'] = d['y'].astype('float64') - 0.6\n",
    "\n",
    "    if d['name'] in ['void Particles::push()', 'void Fields::propagate()', 'void Manager::diagnose(size_t) const']:\n",
    "      d.width = 0.2\n",
    "      d['y'] = d['y'].astype('float64') - 0.6\n",
    "\n",
    "    if d['name'] == 'field interpolation process':\n",
    "      d.width = 0.2\n",
    "      d['y'] = d['y'].astype('float64') - 0.35\n",
    "\n",
    "    if d['name'] == 'particle push process':\n",
    "      d.width = 0.2\n",
    "      d['y'] = d['y'].astype('float64') - 0.125\n",
    "\n",
    "    if d['name'] == 'current decomposition process':\n",
    "      d.width = 0.2\n",
    "      d['y'] = d['y'].astype('float64') + 0.125\n",
    "\n",
    "    if d['name'] == 'adding particles via open boundaries':\n",
    "      d.width = 0.2\n",
    "      d['y'] = d['y'].astype('float64') + 0.35\n"
   ]
  },
  {
   "cell_type": "code",
   "execution_count": null,
   "metadata": {},
   "outputs": [],
   "source": [
    "df = pd.DataFrame(data)\n",
    "\n",
    "fig = px.timeline(\n",
    "  df,\n",
    "  x_start='start', x_end='end', y='tid',\n",
    "  hover_data=['name', 'dur, μs'],\n",
    "  color='name',\n",
    "  height=800,\n",
    "  width=1200,\n",
    ")\n",
    "\n",
    "customize_figure(fig)\n",
    "\n",
    "fig.update_yaxes(autorange=\"reversed\")\n",
    "fig.update_xaxes(rangeslider_visible=True)\n",
    "\n",
    "fig.show()\n",
    "\n",
    "if not os.path.exists('log/'):\n",
    "  os.mkdir('log/')\n",
    "\n",
    "fig.write_image(date.today().strftime('log/%b-%d-%y.png'), width=1500)"
   ]
  },
  {
   "cell_type": "code",
   "execution_count": null,
   "metadata": {},
   "outputs": [],
   "source": [
    "fig = px.histogram(\n",
    "  df,\n",
    "  x='name',\n",
    "  y='dur, μs',\n",
    "  color='name'\n",
    ")\n",
    "\n",
    "fig.show()"
   ]
  }
 ],
 "metadata": {
  "kernelspec": {
   "display_name": "Python 3.10.5 64-bit",
   "language": "python",
   "name": "python3"
  },
  "language_info": {
   "codemirror_mode": {
    "name": "ipython",
    "version": 3
   },
   "file_extension": ".py",
   "mimetype": "text/x-python",
   "name": "python",
   "nbconvert_exporter": "python",
   "pygments_lexer": "ipython3",
   "version": "3.10.5"
  },
  "orig_nbformat": 4,
  "vscode": {
   "interpreter": {
    "hash": "e7370f93d1d0cde622a1f8e1c04877d8463912d04d973331ad4851f04de6915a"
   }
  }
 },
 "nbformat": 4,
 "nbformat_minor": 2
}
