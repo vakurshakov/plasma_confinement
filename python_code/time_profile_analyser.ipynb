{
 "cells": [
  {
   "cell_type": "markdown",
   "metadata": {},
   "source": [
    "What I want to analyze here?\n",
    "1. Visual profile of each timestep\n",
    "2. Function-duration distribution"
   ]
  },
  {
   "cell_type": "code",
   "execution_count": null,
   "metadata": {},
   "outputs": [],
   "source": [
    "# To read and parse outputted .json file\n",
    "import json\n",
    "\n",
    "# Main data frame\n",
    "import pandas as pd\n",
    "\n",
    "# Draw interactive graphs with plotly\n",
    "import plotly.express as px\n",
    "from plotly.offline import init_notebook_mode\n",
    "\n",
    "# To use create directory and store progress\n",
    "import os\n",
    "from datetime import date\n",
    "\n",
    "init_notebook_mode(connected=True)"
   ]
  },
  {
   "cell_type": "code",
   "execution_count": null,
   "metadata": {},
   "outputs": [],
   "source": [
    "steps = [[]]\n",
    "\n",
    "prefix = '../simulation_time_profile'\n",
    "\n",
    "with open(prefix + '.json') as file:\n",
    "  data = json.load(file)\n",
    "  \n",
    "  for p in data['record']:\n",
    "    steps[-1].append(p)\n",
    "      \n",
    "    if p['name'] == 'one timestep' or p['name'] == 'void Manager::initializes()':\n",
    "      steps.append([])\n",
    "  \n",
    "  steps.pop()"
   ]
  },
  {
   "cell_type": "code",
   "execution_count": null,
   "metadata": {},
   "outputs": [],
   "source": [
    "names = []\n",
    "starts = []\n",
    "durations = []\n",
    "\n",
    "for s in steps:\n",
    "  for sub in s:\n",
    "    names.append(sub['name'])\n",
    "    starts.append(s[-1]['start'] / 1e9)\n",
    "    durations.append(sub['dur'] / 1e3)\n",
    "\n",
    "df = pd.DataFrame({\n",
    "  'name': names,\n",
    "  'start of the timestep (relative)': starts,\n",
    "  'duration, ms': durations\n",
    "})"
   ]
  },
  {
   "cell_type": "code",
   "execution_count": null,
   "metadata": {},
   "outputs": [],
   "source": [
    "fig = px.bar(\n",
    "  df,\n",
    "  x='start of the timestep (relative)', # comment this, to precise representation\n",
    "  y='duration, ms',\n",
    "  color='name'\n",
    ")\n",
    "fig.show()\n",
    "\n",
    "if not os.path.exists('log/'):\n",
    "    os.mkdir('log/')\n",
    "\n",
    "fig.write_image(date.today().strftime('log/%b-%d-%y.png'), width=1500)"
   ]
  },
  {
   "cell_type": "code",
   "execution_count": null,
   "metadata": {},
   "outputs": [],
   "source": [
    "fig = px.histogram(\n",
    "  df,\n",
    "  x='name',\n",
    "  y='duration, ms',\n",
    "  color='name'\n",
    ")\n",
    "fig.show()"
   ]
  }
 ],
 "metadata": {
  "kernelspec": {
   "display_name": "Python 3.10.5 64-bit",
   "language": "python",
   "name": "python3"
  },
  "language_info": {
   "codemirror_mode": {
    "name": "ipython",
    "version": 3
   },
   "file_extension": ".py",
   "mimetype": "text/x-python",
   "name": "python",
   "nbconvert_exporter": "python",
   "pygments_lexer": "ipython3",
   "version": "3.10.5"
  },
  "orig_nbformat": 4,
  "vscode": {
   "interpreter": {
    "hash": "e7370f93d1d0cde622a1f8e1c04877d8463912d04d973331ad4851f04de6915a"
   }
  }
 },
 "nbformat": 4,
 "nbformat_minor": 2
}
